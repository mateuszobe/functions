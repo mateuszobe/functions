{
 "cells": [
  {
   "cell_type": "markdown",
   "id": "4963e4bd-3a00-4cf0-b6f5-f35a874d9cc3",
   "metadata": {},
   "source": [
    "## Jak tworzyć funkcje w Pythonie\n",
    "W Pythonie funkcje tworzymy za pomocą słowa kluczowego `def`. Na przykład, funkcja dodająca dwie liczby może wyglądać następująco:"
   ]
  },
  {
   "cell_type": "code",
   "execution_count": 1,
   "id": "f80786ef-e656-4e7b-943a-2ce4e7ef18b9",
   "metadata": {},
   "outputs": [],
   "source": [
    "def dodaj(a, b):\n",
    "    return a + b"
   ]
  },
  {
   "cell_type": "markdown",
   "id": "6d3baee5-f9d6-44b2-b247-028549cb3a69",
   "metadata": {},
   "source": [
    "Aby wywołać funkcję, używamy jej nazwy oraz przekazujemy argumenty w nawiasach okrągłych. Przykład:"
   ]
  },
  {
   "cell_type": "code",
   "execution_count": 2,
   "id": "d9650b6b-a48a-4f68-b3c8-450f062cafa6",
   "metadata": {},
   "outputs": [
    {
     "data": {
      "text/plain": [
       "8"
      ]
     },
     "execution_count": 2,
     "metadata": {},
     "output_type": "execute_result"
    }
   ],
   "source": [
    "wynik = dodaj(3, 5)\n",
    "wynik\n"
   ]
  },
  {
   "cell_type": "code",
   "execution_count": null,
   "id": "956a1d45-5d3d-4c6d-a638-afddaadc29ef",
   "metadata": {},
   "outputs": [],
   "source": []
  }
 ],
 "metadata": {
  "kernelspec": {
   "display_name": "Python 3 (ipykernel)",
   "language": "python",
   "name": "python3"
  },
  "language_info": {
   "codemirror_mode": {
    "name": "ipython",
    "version": 3
   },
   "file_extension": ".py",
   "mimetype": "text/x-python",
   "name": "python",
   "nbconvert_exporter": "python",
   "pygments_lexer": "ipython3",
   "version": "3.12.7"
  }
 },
 "nbformat": 4,
 "nbformat_minor": 5
}
